{
 "cells": [
  {
   "cell_type": "code",
   "execution_count": 100,
   "id": "d4ede914-7b45-4716-9516-5068a17e164b",
   "metadata": {},
   "outputs": [],
   "source": [
    "import pandas as pd\n",
    "import pickle\n",
    "import random\n",
    "from sklearn.feature_extraction.text import TfidfVectorizer\n",
    "from sklearn.metrics.pairwise import cosine_similarity, euclidean_distances\n",
    "from surprise import Reader, Dataset\n",
    "from surprise import SVD\n",
    "from surprise.model_selection import cross_validate"
   ]
  },
  {
   "cell_type": "code",
   "execution_count": 145,
   "id": "bfc9bf3f-0145-459e-84d9-fcd6b2f49d5b",
   "metadata": {},
   "outputs": [],
   "source": [
    "# Content-Based filtering\n",
    "df_content_tags = pd.read_csv(\"../data/interim/movies_tags.csv\")\n",
    "df_content_tags.dropna(subset=['all_tags'], inplace=True)\n",
    "tfidf = TfidfVectorizer()\n",
    "matrice_tfidf = tfidf.fit_transform(df_content_tags['all_tags'])\n",
    "sim_cosinus = cosine_similarity(matrice_tfidf, matrice_tfidf)\n",
    "sim_euclidienne = 1 / (1 + euclidean_distances(matrice_tfidf))\n",
    "indices = pd.Series(range(0,len(df_content_tags)), index=df_content_tags.title)\n",
    "\n",
    "def recommandations_content(titre, cos_sim, num_recommendations=10):\n",
    "    idx = indices[titre]\n",
    "    scores_similarite = list(enumerate(cos_sim[idx]))\n",
    "    scores_similarite = sorted(scores_similarite, key=lambda x: x[1], reverse=True)\n",
    "    top_similair = scores_similarite[1:num_recommendations+1]\n",
    "    res = [(indices.index[idx], score) for idx, score in top_similair]\n",
    "    res = pd.DataFrame(res)\n",
    "    res = res.rename(columns={0: 'title', 1: 'score'})\n",
    "    return res"
   ]
  },
  {
   "cell_type": "code",
   "execution_count": 102,
   "id": "4e0f557e-5941-4a8c-a522-717ac5f1438e",
   "metadata": {
    "scrolled": true
   },
   "outputs": [
    {
     "name": "stdout",
     "output_type": "stream",
     "text": [
      "(27053, 7877)\n",
      "                                               title     score\n",
      "0                                 Toy Story 2 (1999)  0.574920\n",
      "1                              Monsters, Inc. (2001)  0.401519\n",
      "2                                        Cars (2006)  0.357911\n",
      "3     Adventures of Ichabod and Mr. Toad, The (1949)  0.322854\n",
      "4                                   Pinocchio (1940)  0.313041\n",
      "5                                Finding Nemo (2003)  0.303094\n",
      "6  101 Dalmatians (One Hundred and One Dalmatians...  0.295764\n",
      "7                         Toy Story of Terror (2013)  0.295070\n",
      "8                        Beauty and the Beast (1991)  0.288640\n",
      "9                                       Shrek (2001)  0.286178\n"
     ]
    }
   ],
   "source": [
    "print(matrice_tfidf.shape)\n",
    "print(recommandations_content(\"Toy Story (1995)\", sim_cosinus))"
   ]
  },
  {
   "cell_type": "code",
   "execution_count": 12,
   "id": "f7683b36-2e70-4b17-a782-a9ad90759146",
   "metadata": {},
   "outputs": [
    {
     "name": "stdout",
     "output_type": "stream",
     "text": [
      "Evaluating RMSE, MAE of algorithm SVD on 5 split(s).\n",
      "\n",
      "                  Fold 1  Fold 2  Fold 3  Fold 4  Fold 5  Mean    Std     \n",
      "RMSE (testset)    0.7860  0.7862  0.7864  0.7862  0.7864  0.7862  0.0001  \n",
      "MAE (testset)     0.5980  0.5980  0.5983  0.5983  0.5984  0.5982  0.0002  \n",
      "Fit time          94.06   119.61  102.93  118.68  100.83  107.22  10.17   \n",
      "Test time         31.55   28.25   27.57   26.71   30.63   28.94   1.85    \n"
     ]
    },
    {
     "data": {
      "text/plain": [
       "{'test_rmse': array([0.78599116, 0.78619962, 0.78637094, 0.78623411, 0.78638188]),\n",
       " 'test_mae': array([0.59802472, 0.5980028 , 0.59832207, 0.59826599, 0.59838414]),\n",
       " 'fit_time': (94.06464791297913,\n",
       "  119.60788702964783,\n",
       "  102.93337392807007,\n",
       "  118.68454623222351,\n",
       "  100.83284306526184),\n",
       " 'test_time': (31.551662921905518,\n",
       "  28.252826929092407,\n",
       "  27.565049171447754,\n",
       "  26.70999503135681,\n",
       "  30.634342908859253)}"
      ]
     },
     "execution_count": 12,
     "metadata": {},
     "output_type": "execute_result"
    }
   ],
   "source": [
    "# Collaborative filtering\n",
    "df_ratings = pd.read_csv(\"../data/raw/ratings.csv\")\n",
    "df_ratings = df_ratings.drop(\"timestamp\", axis=1)\n",
    "df_movies = pd.read_csv(\"../data/raw/movies.csv\")\n",
    "reader = Reader(rating_scale=(0, 5))\n",
    "df_surprise = Dataset.load_from_df(df_ratings, reader=reader)\n",
    "\n",
    "svd = SVD()\n",
    "cross_validate(svd, df_surprise,measures=['RMSE', 'MAE'], cv=5, verbose=True )\n"
   ]
  },
  {
   "cell_type": "code",
   "execution_count": 94,
   "id": "16a5fdab-b0ea-4edf-ac6d-809c0ad171fb",
   "metadata": {},
   "outputs": [
    {
     "data": {
      "text/plain": [
       "<surprise.prediction_algorithms.matrix_factorization.SVD at 0x15f451c40>"
      ]
     },
     "execution_count": 94,
     "metadata": {},
     "output_type": "execute_result"
    }
   ],
   "source": [
    "train_set = df_surprise.build_full_trainset()\n",
    "svd.fit(train_set)"
   ]
  },
  {
   "cell_type": "code",
   "execution_count": 103,
   "id": "03a40752-71d5-4c76-9c6b-c2ed2a626750",
   "metadata": {},
   "outputs": [],
   "source": [
    "train_set = df_surprise.build_full_trainset()"
   ]
  },
  {
   "cell_type": "code",
   "execution_count": 146,
   "id": "2a431ee6-2712-4a8f-ab5e-841581bd75bc",
   "metadata": {},
   "outputs": [],
   "source": [
    "def recommandations_collab(user_id, num_recommendations=10):\n",
    "    # Générer l'anti-test set pour l'utilisateur cible\n",
    "    anti_testset = []\n",
    "    targetUser = train_set.to_inner_uid(user_id)\n",
    "    moyenne = train_set.global_mean\n",
    "    user_note = train_set.ur[targetUser]\n",
    "    user_livre = [item for (item, _) in user_note]\n",
    "\n",
    "    for livre in train_set.all_items():\n",
    "        if livre not in user_livre:\n",
    "            anti_testset.append((user_id, train_set.to_raw_iid(livre), moyenne))\n",
    "\n",
    "    # Effectuer les prédictions\n",
    "    predictionsSVD = svd.test(anti_testset)\n",
    "    predictionsSVD = pd.DataFrame(predictionsSVD)\n",
    "\n",
    "    # Mapper les IDs de films aux titres\n",
    "    df_movies = pd.read_csv(\"../data/raw/movies.csv\")\n",
    "    movieId_title_map = df_movies.set_index('movieId')['title'].to_dict()\n",
    "    predictionsSVD['title'] = predictionsSVD['iid'].map(movieId_title_map)\n",
    "\n",
    "    # Renommer les colonnes et trier par note estimée\n",
    "    predictionsSVD = predictionsSVD.rename(columns={'uid': 'userId', 'est': 'note'})\n",
    "    predictionsSVD = predictionsSVD[['userId', 'title', 'note']]\n",
    "    predictionsSVD.sort_values('note', ascending=False, inplace=True)\n",
    "\n",
    "    # Retourner les top N recommandations\n",
    "    return predictionsSVD.head(num_recommendations)"
   ]
  },
  {
   "cell_type": "code",
   "execution_count": 134,
   "id": "1a8d5537-2e16-4052-a902-c01a54e89d7e",
   "metadata": {},
   "outputs": [],
   "source": [
    "with open(\"../models/svd_model.pkl\", \"rb\") as filehandler:\n",
    "        svd_model = pickle.load(filehandler)\n"
   ]
  },
  {
   "cell_type": "code",
   "execution_count": 135,
   "id": "f5dd3b92-d8a0-4813-923b-0624e90c4e77",
   "metadata": {},
   "outputs": [],
   "source": [
    "def collab_reco(user_id, num_recommendations=10):\n",
    "\n",
    "    anti_testset =[]\n",
    "    target_user = train_set.to_inner_uid(user_id)\n",
    "    moyenne = train_set.global_mean\n",
    "    user_note = train_set.ur[target_user]\n",
    "    user_film = [item for (item, _) in user_note]\n",
    "\n",
    "    for film in train_set.all_items():\n",
    "        if film not in user_film:\n",
    "            anti_testset.append((user_id, train_set.to_raw_iid(film), moyenne))\n",
    "\n",
    "    predictions_svd = svd_model.test(anti_testset)\n",
    "    predictions_svd = pd.DataFrame(predictions_svd)\n",
    "\n",
    "    df_movies = pd.read_csv(\"../data/raw/movies.csv\")\n",
    "    movieId_title_map = df_movies.set_index('movieId')['title'].to_dict()\n",
    "    predictions_svd['title'] = predictions_svd['iid'].map(movieId_title_map)\n",
    "\n",
    "    predictions_svd = predictions_svd.rename(columns={'uid': 'userId', 'est': 'note'})\n",
    "    predictions_svd = predictions_svd[['userId', 'title', 'note']]\n",
    "    predictions_svd.sort_values('note', ascending=False, inplace=True)\n",
    "\n",
    "    return predictions_svd.head(num_recommendations)"
   ]
  },
  {
   "cell_type": "code",
   "execution_count": 142,
   "id": "a09c9c7b-a4db-4671-a797-17020134abd4",
   "metadata": {},
   "outputs": [
    {
     "name": "stdout",
     "output_type": "stream",
     "text": [
      "       userId                                              title      note\n",
      "7662        1                  Dylan Moran: Like, Totally (2006)  4.518033\n",
      "15365       1      Zero Motivation (Efes beyahasei enosh) (2014)  4.493053\n",
      "6427        1                        Zeitgeist: The Movie (2007)  4.425366\n",
      "15704       1  If a Tree Falls: A Story of the Earth Liberati...  4.390903\n",
      "10397       1                               Prime Suspect (1991)  4.345804\n",
      "12753       1                      Very Potter Musical, A (2009)  4.344184\n",
      "10757       1                   Pillars of the Earth, The (2010)  4.340872\n",
      "10342       1          Death on the Staircase (SoupÃ§ons) (2004)  4.329217\n",
      "16755       1                                    Girl Shy (1924)  4.326247\n",
      "2497        1                          The Imitation Game (2014)  4.315304\n",
      "14488       1  Memories of Underdevelopment (Memorias del sub...  4.307039\n",
      "1676        1  Harry Potter and the Deathly Hallows: Part 2 (...  4.303772\n",
      "13607       1                 Phone Box, The (Cabina, La) (1972)  4.300036\n",
      "12660       1  Guest from the Future (Gostya iz buduschego) (...  4.299544\n",
      "11818       1  Simple Simon (I rymden finns inga kÃ¤nslor) (2...  4.298882\n",
      "20592       1       O Auto da Compadecida (Dog's Will, A) (2000)  4.288350\n",
      "13946       1  Heimat - A Chronicle of Germany (Heimat - Eine...  4.286703\n",
      "12640       1                                     The War (2007)  4.282049\n",
      "13572       1                      Jim Gaffigan: Obsessed (2014)  4.280482\n",
      "10340       1                               Frozen Planet (2011)  4.276869\n"
     ]
    }
   ],
   "source": [
    "user_id = 1\n",
    "num_recommendations = 20\n",
    "top_recommendations_collab = collab_reco(user_id, num_recommendations)\n",
    "print(top_recommendations_collab)"
   ]
  },
  {
   "cell_type": "code",
   "execution_count": 147,
   "id": "a78796d6-51b9-4c2d-830d-a156c07e368c",
   "metadata": {},
   "outputs": [
    {
     "name": "stdout",
     "output_type": "stream",
     "text": [
      "       userId                                              title      note\n",
      "2193      123   Three Colors: Red (Trois couleurs: Rouge) (1994)  4.462192\n",
      "8158      123                     Alone in the Wilderness (2004)  4.440168\n",
      "3981      123  Dear Zachary: A Letter to a Son About His Fath...  4.429980\n",
      "9299      123                          Fawlty Towers (1975-1979)  4.421757\n",
      "2063      123   Three Colors: Blue (Trois couleurs: Bleu) (1993)  4.355871\n",
      "2071      123                            Band of Brothers (2001)  4.345737\n",
      "5313      123                                      Baraka (1992)  4.344656\n",
      "3792      123   Song of the Little Road (Pather Panchali) (1955)  4.340330\n",
      "3152      123      Chungking Express (Chung Hing sam lam) (1994)  4.337888\n",
      "2588      123                                        Once (2006)  4.318958\n",
      "5245      123                       Louis C.K.: Hilarious (2010)  4.307030\n",
      "5026      123                  Nine Queens (Nueve reinas) (2000)  4.297056\n",
      "1277      123  Lives of Others, The (Das leben der Anderen) (...  4.286692\n",
      "6341      123  Man Who Planted Trees, The (Homme qui plantait...  4.284961\n",
      "9293      123                    Century of the Self, The (2002)  4.280092\n",
      "2700      123      In the Mood For Love (Fa yeung nin wa) (2000)  4.276066\n",
      "9775      123                         Red Beard (Akahige) (1965)  4.275703\n",
      "10385     123           Heart of a Dog (Sobachye serdtse) (1988)  4.265127\n",
      "4060      123      Louis C.K.: Live at the Beacon Theater (2011)  4.254146\n",
      "3182      123        Land and Freedom (Tierra y libertad) (1995)  4.252460\n"
     ]
    }
   ],
   "source": [
    "user_id = 123\n",
    "num_recommendations = 20\n",
    "top_recommendations_collab = recommandations_collab(user_id, num_recommendations)\n",
    "print(top_recommendations_collab)"
   ]
  },
  {
   "cell_type": "code",
   "execution_count": 85,
   "id": "7cfa08b1-af97-4116-bd71-c1ef0cbcd88d",
   "metadata": {},
   "outputs": [],
   "source": [
    "with open(\"../models/svd_model.pkl\", \"wb\") as f:\n",
    "    pickle.dump(svd, f)"
   ]
  },
  {
   "cell_type": "code",
   "execution_count": null,
   "id": "eb2d7c4c-543b-49e9-83f8-ffca45a7e55e",
   "metadata": {},
   "outputs": [],
   "source": []
  },
  {
   "cell_type": "code",
   "execution_count": 148,
   "id": "1b7b23e2-4580-432f-8aa9-e8a04cbc4c9f",
   "metadata": {},
   "outputs": [
    {
     "ename": "NameError",
     "evalue": "name 'afficher_recommandations' is not defined",
     "output_type": "error",
     "traceback": [
      "\u001b[0;31m---------------------------------------------------------------------------\u001b[0m",
      "\u001b[0;31mNameError\u001b[0m                                 Traceback (most recent call last)",
      "Cell \u001b[0;32mIn[148], line 14\u001b[0m\n\u001b[1;32m     12\u001b[0m \u001b[38;5;66;03m# Afficher les recommandations initiales\u001b[39;00m\n\u001b[1;32m     13\u001b[0m top_recommendations_collab \u001b[38;5;241m=\u001b[39m recommandations_collab(user_id, num_recommendations)\n\u001b[0;32m---> 14\u001b[0m \u001b[43mafficher_recommandations\u001b[49m(top_recommendations_collab)\n\u001b[1;32m     16\u001b[0m \u001b[38;5;66;03m# Recueillir le retour utilisateur\u001b[39;00m\n\u001b[1;32m     17\u001b[0m satisfaction \u001b[38;5;241m=\u001b[39m \u001b[38;5;28minput\u001b[39m(\u001b[38;5;124m\"\u001b[39m\u001b[38;5;124mÊtes-vous satisfait de ces recommandations ? (Oui/Non): \u001b[39m\u001b[38;5;124m\"\u001b[39m)\n",
      "\u001b[0;31mNameError\u001b[0m: name 'afficher_recommandations' is not defined"
     ]
    }
   ],
   "source": [
    "def generer_nouvelles_recommandations(recommandations, nb_recommandations=10):\n",
    "    # Convertir les recommandations en liste\n",
    "    recommandations_liste = recommandations.values.tolist()\n",
    "    # Mélanger aléatoirement les recommandations\n",
    "    random.shuffle(recommandations_liste)\n",
    "    # Sélectionner un sous-ensemble de recommandations\n",
    "    nouvelles_recommandations = recommandations_liste[:nb_recommandations]\n",
    "    # Convertir la liste en DataFrame\n",
    "    nouvelles_recommandations_df = pd.DataFrame(nouvelles_recommandations, columns=recommandations.columns)\n",
    "    return nouvelles_recommandations_df\n",
    "\n",
    "# Afficher les recommandations initiales\n",
    "top_recommendations_collab = recommandations_collab(user_id, num_recommendations)\n",
    "afficher_recommandations(top_recommendations_collab)\n",
    "\n",
    "# Recueillir le retour utilisateur\n",
    "satisfaction = input(\"Êtes-vous satisfait de ces recommandations ? (Oui/Non): \")\n",
    "\n",
    "if satisfaction.lower() == \"non\":\n",
    "    # Générer de nouvelles recommandations sans réentraîner le modèle\n",
    "    nouvelles_recommandations = generer_nouvelles_recommandations(top_recommendations_collab)\n",
    "    # Afficher les nouvelles recommandations\n",
    "    afficher_recommandations(nouvelles_recommandations)\n"
   ]
  },
  {
   "cell_type": "code",
   "execution_count": 143,
   "id": "95cac69e-1bd5-4287-8ea3-a3e9b78aed1c",
   "metadata": {},
   "outputs": [],
   "source": [
    "from sklearn.preprocessing import MinMaxScaler\n",
    "def recommandations_hybride(user_id, titre, num_recommendations=10, alpha=0.8, n=1000):\n",
    "\n",
    "    scaler = MinMaxScaler()\n",
    "    # Obtenir les recommandations basées sur le contenu\n",
    "    rec_content = recommandations_content(titre, sim_euclidienne, num_recommendations*n)\n",
    "    rec_content = rec_content.set_index('title')\n",
    "    rec_content = rec_content.rename(columns={'score': 'score_content'})\n",
    "    rec_content['score_content'] = scaler.fit_transform(rec_content[['score_content']])\n",
    "    print(\"Recommandations basées sur le contenu pour '{}':\\n{}\".format(titre, rec_content.head(10)))\n",
    "\n",
    "    # Obtenir les recommandations basées sur le filtrage collaboratif\n",
    "    rec_collab = collab_reco(user_id, num_recommendations*n)\n",
    "    rec_collab = rec_collab.set_index('title')\n",
    "    rec_collab = rec_collab.rename(columns={'note': 'score_collab'})\n",
    "    rec_collab['score_collab'] = scaler.fit_transform(rec_collab[['score_collab']])\n",
    "    print(\"Recommandations collaboratives pour l'utilisateur {}:\\n{}\".format(user_id, rec_collab.head(10)))\n",
    "    \n",
    "    # Fusionner les scores\n",
    "    rec_combined = rec_content.join(rec_collab, how='outer').fillna(0)\n",
    "    rec_combined['score'] = (alpha * rec_combined['score_content']) +((1 - alpha) * rec_combined['score_collab'])\n",
    "\n",
    "    # Trier et retourner les recommandations\n",
    "    rec_combined = rec_combined.sort_values('score', ascending=False)\n",
    "    rec_combined = rec_combined[['score_content', 'score_collab', 'score']].reset_index()\n",
    "    return rec_combined.head(num_recommendations)"
   ]
  },
  {
   "cell_type": "code",
   "execution_count": 144,
   "id": "ae2501d8-98cd-46ba-ae43-278df6f54035",
   "metadata": {},
   "outputs": [
    {
     "name": "stdout",
     "output_type": "stream",
     "text": [
      "Recommandations basées sur le contenu pour 'Braveheart (1995)':\n",
      "                            score_content\n",
      "title                                    \n",
      "Spartacus (1960)                 1.000000\n",
      "Lawrence of Arabia (1962)        0.926684\n",
      "Patton (1970)                    0.883285\n",
      "Black Hawk Down (2001)           0.834704\n",
      "Saving Private Ryan (1998)       0.816444\n",
      "Rob Roy (1995)                   0.796507\n",
      "Gladiator (2000)                 0.764112\n",
      "Doctor Zhivago (1965)            0.758606\n",
      "Dances with Wolves (1990)        0.743466\n",
      "Last Emperor, The (1987)         0.713222\n",
      "Recommandations collaboratives pour l'utilisateur 1000:\n",
      "                                                    userId  score_collab\n",
      "title                                                                   \n",
      "Interstellar (2014)                                   1000      1.000000\n",
      "Dark Knight Rises, The (2012)                         1000      0.986494\n",
      "Shawshank Redemption, The (1994)                      1000      0.980251\n",
      "Boondock Saints, The (2000)                           1000      0.932458\n",
      "Louis C.K.: Shameless (2007)                          1000      0.889196\n",
      "Louis C.K.: Hilarious (2010)                          1000      0.851460\n",
      "Frozen Planet (2011)                                  1000      0.843104\n",
      "Hero (Ying xiong) (2002)                              1000      0.832244\n",
      "Usual Suspects, The (1995)                            1000      0.830948\n",
      "Girl Who Kicked the Hornet's Nest, The (Luftslo...    1000      0.813027\n",
      "Recommandations hybrides pour 'Braveheart (1995)':\n",
      "                        title  score_content  score_collab     score\n",
      "0            Spartacus (1960)       1.000000      0.068951  0.813790\n",
      "1            Gladiator (2000)       0.764112      0.779613  0.767212\n",
      "2   Lawrence of Arabia (1962)       0.926684      0.041708  0.749689\n",
      "3  Saving Private Ryan (1998)       0.816444      0.479738  0.749103\n",
      "4               Patton (1970)       0.883285      0.022422  0.711113\n",
      "5      Black Hawk Down (2001)       0.834704      0.094610  0.686685\n",
      "6     Schindler's List (1993)       0.634981      0.682187  0.644422\n",
      "7              Rob Roy (1995)       0.796507      0.000000  0.637206\n",
      "8       Doctor Zhivago (1965)       0.758606      0.048424  0.616569\n",
      "9   Dances with Wolves (1990)       0.743466      0.003106  0.595394\n"
     ]
    }
   ],
   "source": [
    "user_id = 1000\n",
    "titre = \"Braveheart (1995)\"\n",
    "num_recommendations = 10\n",
    "recommandations_final = recommandations_hybride(user_id, titre, num_recommendations, alpha=0.8)\n",
    "print(\"Recommandations hybrides pour '{}':\\n{}\".format(titre, recommandations_final))\n"
   ]
  },
  {
   "cell_type": "code",
   "execution_count": 99,
   "id": "ce2b4939-b416-492f-8f08-b778f2782109",
   "metadata": {},
   "outputs": [
    {
     "name": "stdout",
     "output_type": "stream",
     "text": [
      "Recommandations basées sur le contenu pour 'Toy Story (1995)':\n",
      "                                                    score_content\n",
      "title                                                            \n",
      "Toy Story 2 (1999)                                       1.000000\n",
      "Monsters, Inc. (2001)                                    0.585150\n",
      "Cars (2006)                                              0.500061\n",
      "Adventures of Ichabod and Mr. Toad, The (1949)           0.435868\n",
      "Pinocchio (1940)                                         0.418515\n",
      "Finding Nemo (2003)                                      0.401188\n",
      "101 Dalmatians (One Hundred and One Dalmatians)...       0.388581\n",
      "Toy Story of Terror (2013)                               0.387395\n",
      "Beauty and the Beast (1991)                              0.376461\n",
      "Shrek (2001)                                             0.372302\n",
      "Recommandations collaboratives pour l'utilisateur 1000:\n",
      "                                             userId  score_collab\n",
      "title                                                            \n",
      "Hobbit: An Unexpected Journey, The (2012)      1000      1.000000\n",
      "Shawshank Redemption, The (1994)               1000      0.889933\n",
      "Hobbit: The Desolation of Smaug, The (2013)    1000      0.879708\n",
      "Dark Knight Rises, The (2012)                  1000      0.867833\n",
      "Gladiator (2000)                               1000      0.822964\n",
      "Prime Suspect (1991)                           1000      0.817895\n",
      "Terminator 2: Judgment Day (1991)              1000      0.816339\n",
      "Avengers, The (2012)                           1000      0.813140\n",
      "Django Unchained (2012)                        1000      0.810077\n",
      "Frozen Planet (2011)                           1000      0.805548\n",
      "Recommandations hybrides pour 'Toy Story (1995)':\n",
      "                                            title  score_content  \\\n",
      "0                              Toy Story 2 (1999)       1.000000   \n",
      "1                           Monsters, Inc. (2001)       0.585150   \n",
      "2                                     Cars (2006)       0.500061   \n",
      "3                      Toy Story of Terror (2013)       0.387395   \n",
      "4                             Finding Nemo (2003)       0.401188   \n",
      "5                 How to Train Your Dragon (2010)       0.356348   \n",
      "6                                    Shrek (2001)       0.372302   \n",
      "7  Adventures of Ichabod and Mr. Toad, The (1949)       0.435868   \n",
      "8                         Incredibles, The (2004)       0.359941   \n",
      "9                                Pinocchio (1940)       0.418515   \n",
      "\n",
      "   score_collab     score  \n",
      "0      0.097338  0.819468  \n",
      "1      0.150330  0.498186  \n",
      "2      0.000000  0.400048  \n",
      "3      0.384954  0.386907  \n",
      "4      0.315168  0.383984  \n",
      "5      0.366529  0.358384  \n",
      "6      0.276714  0.353184  \n",
      "7      0.000000  0.348694  \n",
      "8      0.260150  0.339983  \n",
      "9      0.000000  0.334812  \n"
     ]
    }
   ],
   "source": [
    "user_id = 1000\n",
    "titre = \"Toy Story (1995)\"\n",
    "num_recommendations = 10\n",
    "recommandations_final = recommandations_hybride(user_id, titre, num_recommendations, alpha=0.8)\n",
    "print(\"Recommandations hybrides pour '{}':\\n{}\".format(titre, recommandations_final))\n"
   ]
  },
  {
   "cell_type": "code",
   "execution_count": null,
   "id": "d01ac63e-6f05-494d-b6a8-461affe7f513",
   "metadata": {},
   "outputs": [],
   "source": []
  }
 ],
 "metadata": {
  "kernelspec": {
   "display_name": "movie_kernel",
   "language": "python",
   "name": "movie_kernel"
  },
  "language_info": {
   "codemirror_mode": {
    "name": "ipython",
    "version": 3
   },
   "file_extension": ".py",
   "mimetype": "text/x-python",
   "name": "python",
   "nbconvert_exporter": "python",
   "pygments_lexer": "ipython3",
   "version": "3.12.2"
  }
 },
 "nbformat": 4,
 "nbformat_minor": 5
}
