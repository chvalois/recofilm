{
 "cells": [
  {
   "cell_type": "markdown",
   "id": "271b63c4-8c02-427f-90df-0f7ef0049d80",
   "metadata": {},
   "source": [
    "# Collaborative Filtering with surprise"
   ]
  },
  {
   "cell_type": "markdown",
   "id": "6852fcaf-526d-4cbc-aa40-4b5bcfad0ca1",
   "metadata": {},
   "source": [
    "## NormalPredictor"
   ]
  },
  {
   "cell_type": "code",
   "execution_count": 1,
   "id": "d4e47ce9-a6c7-4247-89d2-9fbd86d3eeff",
   "metadata": {},
   "outputs": [],
   "source": [
    "import pandas as pd\n",
    "from surprise import Reader\n",
    "from surprise import Dataset"
   ]
  },
  {
   "cell_type": "code",
   "execution_count": 2,
   "id": "62b23009-5742-4237-8cb9-51fb2301bea1",
   "metadata": {},
   "outputs": [
    {
     "data": {
      "text/html": [
       "<div>\n",
       "<style scoped>\n",
       "    .dataframe tbody tr th:only-of-type {\n",
       "        vertical-align: middle;\n",
       "    }\n",
       "\n",
       "    .dataframe tbody tr th {\n",
       "        vertical-align: top;\n",
       "    }\n",
       "\n",
       "    .dataframe thead th {\n",
       "        text-align: right;\n",
       "    }\n",
       "</style>\n",
       "<table border=\"1\" class=\"dataframe\">\n",
       "  <thead>\n",
       "    <tr style=\"text-align: right;\">\n",
       "      <th></th>\n",
       "      <th>userId</th>\n",
       "      <th>movieId</th>\n",
       "      <th>rating</th>\n",
       "      <th>timestamp</th>\n",
       "    </tr>\n",
       "  </thead>\n",
       "  <tbody>\n",
       "    <tr>\n",
       "      <th>0</th>\n",
       "      <td>1</td>\n",
       "      <td>2</td>\n",
       "      <td>3.5</td>\n",
       "      <td>1112486027</td>\n",
       "    </tr>\n",
       "    <tr>\n",
       "      <th>1</th>\n",
       "      <td>1</td>\n",
       "      <td>29</td>\n",
       "      <td>3.5</td>\n",
       "      <td>1112484676</td>\n",
       "    </tr>\n",
       "    <tr>\n",
       "      <th>2</th>\n",
       "      <td>1</td>\n",
       "      <td>32</td>\n",
       "      <td>3.5</td>\n",
       "      <td>1112484819</td>\n",
       "    </tr>\n",
       "    <tr>\n",
       "      <th>3</th>\n",
       "      <td>1</td>\n",
       "      <td>47</td>\n",
       "      <td>3.5</td>\n",
       "      <td>1112484727</td>\n",
       "    </tr>\n",
       "    <tr>\n",
       "      <th>4</th>\n",
       "      <td>1</td>\n",
       "      <td>50</td>\n",
       "      <td>3.5</td>\n",
       "      <td>1112484580</td>\n",
       "    </tr>\n",
       "  </tbody>\n",
       "</table>\n",
       "</div>"
      ],
      "text/plain": [
       "   userId  movieId  rating   timestamp\n",
       "0       1        2     3.5  1112486027\n",
       "1       1       29     3.5  1112484676\n",
       "2       1       32     3.5  1112484819\n",
       "3       1       47     3.5  1112484727\n",
       "4       1       50     3.5  1112484580"
      ]
     },
     "execution_count": 2,
     "metadata": {},
     "output_type": "execute_result"
    }
   ],
   "source": [
    "df_ratings = pd.read_csv(\"../data/raw/ratings.csv\")\n",
    "df_ratings.head()"
   ]
  },
  {
   "cell_type": "code",
   "execution_count": 3,
   "id": "f66c4cdb-e424-4936-bf8d-959f57a4e518",
   "metadata": {},
   "outputs": [
    {
     "data": {
      "text/html": [
       "<div>\n",
       "<style scoped>\n",
       "    .dataframe tbody tr th:only-of-type {\n",
       "        vertical-align: middle;\n",
       "    }\n",
       "\n",
       "    .dataframe tbody tr th {\n",
       "        vertical-align: top;\n",
       "    }\n",
       "\n",
       "    .dataframe thead th {\n",
       "        text-align: right;\n",
       "    }\n",
       "</style>\n",
       "<table border=\"1\" class=\"dataframe\">\n",
       "  <thead>\n",
       "    <tr style=\"text-align: right;\">\n",
       "      <th></th>\n",
       "      <th>userId</th>\n",
       "      <th>movieId</th>\n",
       "      <th>rating</th>\n",
       "    </tr>\n",
       "  </thead>\n",
       "  <tbody>\n",
       "    <tr>\n",
       "      <th>0</th>\n",
       "      <td>1</td>\n",
       "      <td>2</td>\n",
       "      <td>3.5</td>\n",
       "    </tr>\n",
       "    <tr>\n",
       "      <th>1</th>\n",
       "      <td>1</td>\n",
       "      <td>29</td>\n",
       "      <td>3.5</td>\n",
       "    </tr>\n",
       "    <tr>\n",
       "      <th>2</th>\n",
       "      <td>1</td>\n",
       "      <td>32</td>\n",
       "      <td>3.5</td>\n",
       "    </tr>\n",
       "    <tr>\n",
       "      <th>3</th>\n",
       "      <td>1</td>\n",
       "      <td>47</td>\n",
       "      <td>3.5</td>\n",
       "    </tr>\n",
       "    <tr>\n",
       "      <th>4</th>\n",
       "      <td>1</td>\n",
       "      <td>50</td>\n",
       "      <td>3.5</td>\n",
       "    </tr>\n",
       "  </tbody>\n",
       "</table>\n",
       "</div>"
      ],
      "text/plain": [
       "   userId  movieId  rating\n",
       "0       1        2     3.5\n",
       "1       1       29     3.5\n",
       "2       1       32     3.5\n",
       "3       1       47     3.5\n",
       "4       1       50     3.5"
      ]
     },
     "execution_count": 3,
     "metadata": {},
     "output_type": "execute_result"
    }
   ],
   "source": [
    "df_ratings = df_ratings.drop(\"timestamp\", axis=1)\n",
    "df_ratings.head()"
   ]
  },
  {
   "cell_type": "code",
   "execution_count": 4,
   "id": "26dc0a33-4878-4ef7-be11-67a6d9db793c",
   "metadata": {},
   "outputs": [
    {
     "data": {
      "text/html": [
       "<div>\n",
       "<style scoped>\n",
       "    .dataframe tbody tr th:only-of-type {\n",
       "        vertical-align: middle;\n",
       "    }\n",
       "\n",
       "    .dataframe tbody tr th {\n",
       "        vertical-align: top;\n",
       "    }\n",
       "\n",
       "    .dataframe thead th {\n",
       "        text-align: right;\n",
       "    }\n",
       "</style>\n",
       "<table border=\"1\" class=\"dataframe\">\n",
       "  <thead>\n",
       "    <tr style=\"text-align: right;\">\n",
       "      <th></th>\n",
       "      <th>movieId</th>\n",
       "      <th>title</th>\n",
       "      <th>genres</th>\n",
       "    </tr>\n",
       "  </thead>\n",
       "  <tbody>\n",
       "    <tr>\n",
       "      <th>0</th>\n",
       "      <td>1</td>\n",
       "      <td>Toy Story (1995)</td>\n",
       "      <td>Adventure|Animation|Children|Comedy|Fantasy</td>\n",
       "    </tr>\n",
       "    <tr>\n",
       "      <th>1</th>\n",
       "      <td>2</td>\n",
       "      <td>Jumanji (1995)</td>\n",
       "      <td>Adventure|Children|Fantasy</td>\n",
       "    </tr>\n",
       "    <tr>\n",
       "      <th>2</th>\n",
       "      <td>3</td>\n",
       "      <td>Grumpier Old Men (1995)</td>\n",
       "      <td>Comedy|Romance</td>\n",
       "    </tr>\n",
       "    <tr>\n",
       "      <th>3</th>\n",
       "      <td>4</td>\n",
       "      <td>Waiting to Exhale (1995)</td>\n",
       "      <td>Comedy|Drama|Romance</td>\n",
       "    </tr>\n",
       "    <tr>\n",
       "      <th>4</th>\n",
       "      <td>5</td>\n",
       "      <td>Father of the Bride Part II (1995)</td>\n",
       "      <td>Comedy</td>\n",
       "    </tr>\n",
       "  </tbody>\n",
       "</table>\n",
       "</div>"
      ],
      "text/plain": [
       "   movieId                               title  \\\n",
       "0        1                    Toy Story (1995)   \n",
       "1        2                      Jumanji (1995)   \n",
       "2        3             Grumpier Old Men (1995)   \n",
       "3        4            Waiting to Exhale (1995)   \n",
       "4        5  Father of the Bride Part II (1995)   \n",
       "\n",
       "                                        genres  \n",
       "0  Adventure|Animation|Children|Comedy|Fantasy  \n",
       "1                   Adventure|Children|Fantasy  \n",
       "2                               Comedy|Romance  \n",
       "3                         Comedy|Drama|Romance  \n",
       "4                                       Comedy  "
      ]
     },
     "execution_count": 4,
     "metadata": {},
     "output_type": "execute_result"
    }
   ],
   "source": [
    "df_movies = pd.read_csv(\"../data/raw/movies.csv\")\n",
    "df_movies.head()"
   ]
  },
  {
   "cell_type": "code",
   "execution_count": 5,
   "id": "505eefe8-5378-4b8b-ab23-f7c9004803ed",
   "metadata": {},
   "outputs": [],
   "source": [
    "reader = Reader(rating_scale=(0, 5))\n",
    "df_surprise = Dataset.load_from_df(df_ratings, reader=reader)\n"
   ]
  },
  {
   "cell_type": "code",
   "execution_count": 6,
   "id": "c42fad5a-b84a-47dd-a3db-2c5f51728c46",
   "metadata": {},
   "outputs": [
    {
     "name": "stdout",
     "output_type": "stream",
     "text": [
      "Evaluating RMSE, MAE of algorithm NormalPredictor on 5 split(s).\n",
      "\n",
      "                  Fold 1  Fold 2  Fold 3  Fold 4  Fold 5  Mean    Std     \n",
      "RMSE (testset)    1.4382  1.4371  1.4377  1.4374  1.4371  1.4375  0.0004  \n",
      "MAE (testset)     1.1467  1.1456  1.1458  1.1461  1.1458  1.1460  0.0004  \n",
      "Fit time          9.35    11.56   11.84   11.73   12.31   11.36   1.04    \n",
      "Test time         28.28   21.91   29.45   23.12   28.43   26.24   3.09    \n"
     ]
    },
    {
     "data": {
      "text/plain": [
       "{'test_rmse': array([1.43818598, 1.43705562, 1.43766151, 1.43738785, 1.43708963]),\n",
       " 'test_mae': array([1.14672847, 1.14556725, 1.14581694, 1.14606023, 1.14583065]),\n",
       " 'fit_time': (9.346808195114136,\n",
       "  11.562877893447876,\n",
       "  11.844789028167725,\n",
       "  11.729647159576416,\n",
       "  12.313029766082764),\n",
       " 'test_time': (28.28259587287903,\n",
       "  21.908761024475098,\n",
       "  29.44517707824707,\n",
       "  23.124305725097656,\n",
       "  28.42549705505371)}"
      ]
     },
     "execution_count": 6,
     "metadata": {},
     "output_type": "execute_result"
    }
   ],
   "source": [
    "from surprise import NormalPredictor\n",
    "from surprise.model_selection import cross_validate\n",
    "\n",
    "normpred = NormalPredictor()\n",
    "\n",
    "cross_validate(normpred, df_surprise, measures=['RMSE', 'MAE'], cv=5, verbose=True)"
   ]
  },
  {
   "cell_type": "code",
   "execution_count": 7,
   "id": "ce390461-6d1a-40b5-b7f1-1cb3097d3e5b",
   "metadata": {},
   "outputs": [],
   "source": [
    "user_id = 1000"
   ]
  },
  {
   "cell_type": "code",
   "execution_count": 8,
   "id": "30ac630e-4721-4fb0-a3e1-cb115cd7e2f4",
   "metadata": {},
   "outputs": [],
   "source": [
    "train_set = df_surprise.build_full_trainset()\n",
    "\n",
    "anti_testset = []\n",
    "\n",
    "targetUser = train_set.to_inner_uid(user_id)\n",
    "\n",
    "moyenne = train_set.global_mean\n",
    "\n",
    "user_note = train_set.ur[targetUser]\n",
    "\n",
    "user_livre = [item for (item,_) in (user_note)]\n",
    "\n",
    "ratings = train_set.all_ratings()\n",
    "\n",
    "for livre in train_set.all_items():\n",
    "\n",
    "    if livre not in user_livre:\n",
    "\n",
    "        anti_testset.append((user_id, train_set.to_raw_iid(livre), moyenne))\n"
   ]
  },
  {
   "cell_type": "code",
   "execution_count": 9,
   "id": "4b7baa2a-b2d4-4ccc-8791-37d76f7b8672",
   "metadata": {},
   "outputs": [
    {
     "ename": "NameError",
     "evalue": "name 'predictions' is not defined",
     "output_type": "error",
     "traceback": [
      "\u001b[0;31m---------------------------------------------------------------------------\u001b[0m",
      "\u001b[0;31mNameError\u001b[0m                                 Traceback (most recent call last)",
      "Cell \u001b[0;32mIn[9], line 2\u001b[0m\n\u001b[1;32m      1\u001b[0m movieId_title_map \u001b[38;5;241m=\u001b[39m df_movies\u001b[38;5;241m.\u001b[39mset_index(\u001b[38;5;124m'\u001b[39m\u001b[38;5;124mmovieId\u001b[39m\u001b[38;5;124m'\u001b[39m)[\u001b[38;5;124m'\u001b[39m\u001b[38;5;124mtitle\u001b[39m\u001b[38;5;124m'\u001b[39m]\u001b[38;5;241m.\u001b[39mto_dict()\n\u001b[0;32m----> 2\u001b[0m predictions_df \u001b[38;5;241m=\u001b[39m pd\u001b[38;5;241m.\u001b[39mDataFrame(\u001b[43mpredictions\u001b[49m)\n\u001b[1;32m      3\u001b[0m predictions_df[\u001b[38;5;124m'\u001b[39m\u001b[38;5;124mtitle\u001b[39m\u001b[38;5;124m'\u001b[39m] \u001b[38;5;241m=\u001b[39m predictions_df[\u001b[38;5;124m'\u001b[39m\u001b[38;5;124miid\u001b[39m\u001b[38;5;124m'\u001b[39m]\u001b[38;5;241m.\u001b[39mmap(movieId_title_map)\n\u001b[1;32m      4\u001b[0m predictions_df \u001b[38;5;241m=\u001b[39m predictions_df\u001b[38;5;241m.\u001b[39mrename(columns\u001b[38;5;241m=\u001b[39m{\u001b[38;5;124m'\u001b[39m\u001b[38;5;124muid\u001b[39m\u001b[38;5;124m'\u001b[39m: \u001b[38;5;124m'\u001b[39m\u001b[38;5;124muserId\u001b[39m\u001b[38;5;124m'\u001b[39m, \u001b[38;5;124m'\u001b[39m\u001b[38;5;124mest\u001b[39m\u001b[38;5;124m'\u001b[39m: \u001b[38;5;124m'\u001b[39m\u001b[38;5;124mnote\u001b[39m\u001b[38;5;124m'\u001b[39m})\n",
      "\u001b[0;31mNameError\u001b[0m: name 'predictions' is not defined"
     ]
    }
   ],
   "source": [
    "movieId_title_map = df_movies.set_index('movieId')['title'].to_dict()\n",
    "predictions_df = pd.DataFrame(predictions)\n",
    "predictions_df['title'] = predictions_df['iid'].map(movieId_title_map)\n",
    "predictions_df = predictions_df.rename(columns={'uid': 'userId', 'est': 'note'})\n",
    "predictions_df = predictions_df[['userId', 'title', 'note']]\n",
    "\n",
    "predictions_df.head(10)"
   ]
  },
  {
   "cell_type": "markdown",
   "id": "f9275e22-5a38-4657-8471-7d1d78da6905",
   "metadata": {},
   "source": [
    "## SVD"
   ]
  },
  {
   "cell_type": "code",
   "execution_count": 10,
   "id": "035497b8-9cae-463f-938b-8dc314d29d5a",
   "metadata": {},
   "outputs": [
    {
     "name": "stdout",
     "output_type": "stream",
     "text": [
      "Evaluating RMSE, MAE of algorithm SVD on 5 split(s).\n",
      "\n",
      "                  Fold 1  Fold 2  Fold 3  Fold 4  Fold 5  Mean    Std     \n",
      "RMSE (testset)    0.7862  0.7866  0.7850  0.7859  0.7860  0.7859  0.0005  \n",
      "MAE (testset)     0.5983  0.5984  0.5975  0.5981  0.5978  0.5980  0.0003  \n",
      "Fit time          97.77   114.94  114.26  114.93  110.23  110.43  6.57    \n",
      "Test time         42.22   43.51   44.04   34.46   42.84   41.41   3.53    \n"
     ]
    },
    {
     "data": {
      "text/plain": [
       "{'test_rmse': array([0.78621578, 0.78657014, 0.78502879, 0.78587988, 0.78596539]),\n",
       " 'test_mae': array([0.59825212, 0.59844251, 0.59754015, 0.59807276, 0.59775006]),\n",
       " 'fit_time': (97.7685718536377,\n",
       "  114.94235634803772,\n",
       "  114.25651407241821,\n",
       "  114.93496108055115,\n",
       "  110.2253828048706),\n",
       " 'test_time': (42.219940185546875,\n",
       "  43.51165795326233,\n",
       "  44.03701305389404,\n",
       "  34.45718193054199,\n",
       "  42.83836913108826)}"
      ]
     },
     "execution_count": 10,
     "metadata": {},
     "output_type": "execute_result"
    }
   ],
   "source": [
    "from surprise import SVD\n",
    "from surprise.model_selection import cross_validate\n",
    "svd = SVD()\n",
    "cross_validate(svd, df_surprise,measures=['RMSE', 'MAE'], cv=5, verbose=True )"
   ]
  },
  {
   "cell_type": "code",
   "execution_count": 11,
   "id": "f268fae6-49bc-4ba0-b48c-38739d71d3ca",
   "metadata": {},
   "outputs": [
    {
     "data": {
      "text/html": [
       "<div>\n",
       "<style scoped>\n",
       "    .dataframe tbody tr th:only-of-type {\n",
       "        vertical-align: middle;\n",
       "    }\n",
       "\n",
       "    .dataframe tbody tr th {\n",
       "        vertical-align: top;\n",
       "    }\n",
       "\n",
       "    .dataframe thead th {\n",
       "        text-align: right;\n",
       "    }\n",
       "</style>\n",
       "<table border=\"1\" class=\"dataframe\">\n",
       "  <thead>\n",
       "    <tr style=\"text-align: right;\">\n",
       "      <th></th>\n",
       "      <th>userId</th>\n",
       "      <th>title</th>\n",
       "      <th>note</th>\n",
       "    </tr>\n",
       "  </thead>\n",
       "  <tbody>\n",
       "    <tr>\n",
       "      <th>2960</th>\n",
       "      <td>1000</td>\n",
       "      <td>Serenity (2005)</td>\n",
       "      <td>4.814452</td>\n",
       "    </tr>\n",
       "    <tr>\n",
       "      <th>1809</th>\n",
       "      <td>1000</td>\n",
       "      <td>Dark Knight Rises, The (2012)</td>\n",
       "      <td>4.794528</td>\n",
       "    </tr>\n",
       "    <tr>\n",
       "      <th>878</th>\n",
       "      <td>1000</td>\n",
       "      <td>Howl's Moving Castle (Hauru no ugoku shiro) (2...</td>\n",
       "      <td>4.783524</td>\n",
       "    </tr>\n",
       "    <tr>\n",
       "      <th>12</th>\n",
       "      <td>1000</td>\n",
       "      <td>Shawshank Redemption, The (1994)</td>\n",
       "      <td>4.779427</td>\n",
       "    </tr>\n",
       "    <tr>\n",
       "      <th>1754</th>\n",
       "      <td>1000</td>\n",
       "      <td>Stardust (2007)</td>\n",
       "      <td>4.740225</td>\n",
       "    </tr>\n",
       "    <tr>\n",
       "      <th>1337</th>\n",
       "      <td>1000</td>\n",
       "      <td>Green Mile, The (1999)</td>\n",
       "      <td>4.735305</td>\n",
       "    </tr>\n",
       "    <tr>\n",
       "      <th>2684</th>\n",
       "      <td>1000</td>\n",
       "      <td>Passion of the Christ, The (2004)</td>\n",
       "      <td>4.717988</td>\n",
       "    </tr>\n",
       "    <tr>\n",
       "      <th>1815</th>\n",
       "      <td>1000</td>\n",
       "      <td>Hobbit: The Desolation of Smaug, The (2013)</td>\n",
       "      <td>4.711520</td>\n",
       "    </tr>\n",
       "    <tr>\n",
       "      <th>1743</th>\n",
       "      <td>1000</td>\n",
       "      <td>Illusionist, The (2006)</td>\n",
       "      <td>4.710351</td>\n",
       "    </tr>\n",
       "    <tr>\n",
       "      <th>5653</th>\n",
       "      <td>1000</td>\n",
       "      <td>Batman: The Dark Knight Returns, Part 1 (2012)</td>\n",
       "      <td>4.706515</td>\n",
       "    </tr>\n",
       "  </tbody>\n",
       "</table>\n",
       "</div>"
      ],
      "text/plain": [
       "      userId                                              title      note\n",
       "2960    1000                                    Serenity (2005)  4.814452\n",
       "1809    1000                      Dark Knight Rises, The (2012)  4.794528\n",
       "878     1000  Howl's Moving Castle (Hauru no ugoku shiro) (2...  4.783524\n",
       "12      1000                   Shawshank Redemption, The (1994)  4.779427\n",
       "1754    1000                                    Stardust (2007)  4.740225\n",
       "1337    1000                             Green Mile, The (1999)  4.735305\n",
       "2684    1000                  Passion of the Christ, The (2004)  4.717988\n",
       "1815    1000        Hobbit: The Desolation of Smaug, The (2013)  4.711520\n",
       "1743    1000                            Illusionist, The (2006)  4.710351\n",
       "5653    1000     Batman: The Dark Knight Returns, Part 1 (2012)  4.706515"
      ]
     },
     "execution_count": 11,
     "metadata": {},
     "output_type": "execute_result"
    }
   ],
   "source": [
    "movieId_title_map = df_movies.set_index('movieId')['title'].to_dict()\n",
    "predictionsSVD = svd.test(anti_testset)\n",
    "\n",
    "predictionsSVD = pd.DataFrame(predictionsSVD)\n",
    "\n",
    "predictionsSVD['title'] = predictionsSVD['iid'].map(movieId_title_map)\n",
    "predictionsSVD = predictionsSVD.rename(columns={'uid': 'userId', 'est': 'note'})\n",
    "\n",
    "predictionsSVD = predictionsSVD[['userId', 'title', 'note']]\n",
    "predictionsSVD.sort_values('note', ascending=False, inplace=True)\n",
    "predictionsSVD.head(10)"
   ]
  },
  {
   "cell_type": "markdown",
   "id": "061656f3-069c-43a4-98c5-7c3faa4a5485",
   "metadata": {},
   "source": [
    "## SVD Tronqué"
   ]
  },
  {
   "cell_type": "code",
   "execution_count": 17,
   "id": "ac3e921e-f6be-4f87-9e55-476457e9a4f5",
   "metadata": {},
   "outputs": [
    {
     "name": "stdout",
     "output_type": "stream",
     "text": [
      "Evaluating RMSE, MAE of algorithm SVD on 5 split(s).\n",
      "\n",
      "                  Fold 1  Fold 2  Fold 3  Fold 4  Fold 5  Mean    Std     \n",
      "RMSE (testset)    0.7872  0.7866  0.7867  0.7860  0.7872  0.7867  0.0004  \n",
      "MAE (testset)     0.5990  0.5987  0.5989  0.5981  0.5995  0.5989  0.0004  \n",
      "Fit time          77.50   82.54   86.39   84.79   89.85   84.21   4.12    \n",
      "Test time         27.12   35.86   31.14   32.40   29.12   31.13   2.97    \n"
     ]
    },
    {
     "data": {
      "text/plain": [
       "{'test_rmse': array([0.78718928, 0.78664585, 0.78671536, 0.78597414, 0.7871939 ]),\n",
       " 'test_mae': array([0.59902864, 0.59874219, 0.59886645, 0.59814903, 0.59946982]),\n",
       " 'fit_time': (77.49506688117981,\n",
       "  82.53794598579407,\n",
       "  86.38784098625183,\n",
       "  84.78652095794678,\n",
       "  89.8542652130127),\n",
       " 'test_time': (27.119922161102295,\n",
       "  35.863821029663086,\n",
       "  31.138434886932373,\n",
       "  32.403340578079224,\n",
       "  29.12393283843994)}"
      ]
     },
     "execution_count": 17,
     "metadata": {},
     "output_type": "execute_result"
    }
   ],
   "source": [
    "from surprise import SVD\n",
    "svd = SVD(n_factors=50)\n",
    "cross_validate(svd, df_surprise,measures=['RMSE', 'MAE'], cv=5, verbose=True )"
   ]
  },
  {
   "cell_type": "code",
   "execution_count": 18,
   "id": "a03f723f-7e1f-4143-a290-c9f27d94dd52",
   "metadata": {},
   "outputs": [
    {
     "data": {
      "text/html": [
       "<div>\n",
       "<style scoped>\n",
       "    .dataframe tbody tr th:only-of-type {\n",
       "        vertical-align: middle;\n",
       "    }\n",
       "\n",
       "    .dataframe tbody tr th {\n",
       "        vertical-align: top;\n",
       "    }\n",
       "\n",
       "    .dataframe thead th {\n",
       "        text-align: right;\n",
       "    }\n",
       "</style>\n",
       "<table border=\"1\" class=\"dataframe\">\n",
       "  <thead>\n",
       "    <tr style=\"text-align: right;\">\n",
       "      <th></th>\n",
       "      <th>userId</th>\n",
       "      <th>title</th>\n",
       "      <th>note</th>\n",
       "    </tr>\n",
       "  </thead>\n",
       "  <tbody>\n",
       "    <tr>\n",
       "      <th>562</th>\n",
       "      <td>1000</td>\n",
       "      <td>Gladiator (2000)</td>\n",
       "      <td>4.911072</td>\n",
       "    </tr>\n",
       "    <tr>\n",
       "      <th>1809</th>\n",
       "      <td>1000</td>\n",
       "      <td>Dark Knight Rises, The (2012)</td>\n",
       "      <td>4.881962</td>\n",
       "    </tr>\n",
       "    <tr>\n",
       "      <th>2960</th>\n",
       "      <td>1000</td>\n",
       "      <td>Serenity (2005)</td>\n",
       "      <td>4.826835</td>\n",
       "    </tr>\n",
       "    <tr>\n",
       "      <th>823</th>\n",
       "      <td>1000</td>\n",
       "      <td>Kill Bill: Vol. 1 (2003)</td>\n",
       "      <td>4.809776</td>\n",
       "    </tr>\n",
       "    <tr>\n",
       "      <th>89</th>\n",
       "      <td>1000</td>\n",
       "      <td>Sixth Sense, The (1999)</td>\n",
       "      <td>4.807095</td>\n",
       "    </tr>\n",
       "    <tr>\n",
       "      <th>2612</th>\n",
       "      <td>1000</td>\n",
       "      <td>Interstellar (2014)</td>\n",
       "      <td>4.790193</td>\n",
       "    </tr>\n",
       "    <tr>\n",
       "      <th>12</th>\n",
       "      <td>1000</td>\n",
       "      <td>Shawshank Redemption, The (1994)</td>\n",
       "      <td>4.784331</td>\n",
       "    </tr>\n",
       "    <tr>\n",
       "      <th>172</th>\n",
       "      <td>1000</td>\n",
       "      <td>Braveheart (1995)</td>\n",
       "      <td>4.775283</td>\n",
       "    </tr>\n",
       "    <tr>\n",
       "      <th>143</th>\n",
       "      <td>1000</td>\n",
       "      <td>Pirates of the Caribbean: The Curse of the Bla...</td>\n",
       "      <td>4.773770</td>\n",
       "    </tr>\n",
       "    <tr>\n",
       "      <th>807</th>\n",
       "      <td>1000</td>\n",
       "      <td>Matrix Reloaded, The (2003)</td>\n",
       "      <td>4.720901</td>\n",
       "    </tr>\n",
       "  </tbody>\n",
       "</table>\n",
       "</div>"
      ],
      "text/plain": [
       "      userId                                              title      note\n",
       "562     1000                                   Gladiator (2000)  4.911072\n",
       "1809    1000                      Dark Knight Rises, The (2012)  4.881962\n",
       "2960    1000                                    Serenity (2005)  4.826835\n",
       "823     1000                           Kill Bill: Vol. 1 (2003)  4.809776\n",
       "89      1000                            Sixth Sense, The (1999)  4.807095\n",
       "2612    1000                                Interstellar (2014)  4.790193\n",
       "12      1000                   Shawshank Redemption, The (1994)  4.784331\n",
       "172     1000                                  Braveheart (1995)  4.775283\n",
       "143     1000  Pirates of the Caribbean: The Curse of the Bla...  4.773770\n",
       "807     1000                        Matrix Reloaded, The (2003)  4.720901"
      ]
     },
     "execution_count": 18,
     "metadata": {},
     "output_type": "execute_result"
    }
   ],
   "source": [
    "predictionsSVD = svd.test(anti_testset)\n",
    "\n",
    "predictionsSVD = pd.DataFrame(predictionsSVD)\n",
    "\n",
    "predictionsSVD['title'] = predictionsSVD['iid'].map(movieId_title_map)\n",
    "predictionsSVD = predictionsSVD.rename(columns={'uid': 'userId', 'est': 'note'})\n",
    "\n",
    "predictionsSVD = predictionsSVD[['userId', 'title', 'note']]\n",
    "predictionsSVD.sort_values('note', ascending=False, inplace=True)\n",
    "predictionsSVD.head(10)"
   ]
  },
  {
   "cell_type": "code",
   "execution_count": 21,
   "id": "3c53737b-1f3a-4e20-a23b-6856a6ad0e3a",
   "metadata": {},
   "outputs": [
    {
     "name": "stdout",
     "output_type": "stream",
     "text": [
      "Evaluating RMSE, MAE of algorithm SVD on 5 split(s).\n",
      "\n",
      "                  Fold 1  Fold 2  Fold 3  Fold 4  Fold 5  Mean    Std     \n",
      "RMSE (testset)    0.7889  0.7893  0.7886  0.7883  0.7881  0.7886  0.0004  \n",
      "MAE (testset)     0.6005  0.6009  0.6005  0.6004  0.6003  0.6005  0.0002  \n",
      "Fit time          77.18   69.26   80.87   76.94   83.43   77.53   4.79    \n",
      "Test time         47.90   34.65   34.74   34.71   34.98   37.40   5.25    \n"
     ]
    },
    {
     "data": {
      "text/plain": [
       "{'test_rmse': array([0.78885566, 0.78930682, 0.78863671, 0.78832992, 0.78810567]),\n",
       " 'test_mae': array([0.6004796 , 0.6008774 , 0.60048894, 0.60039586, 0.60029309]),\n",
       " 'fit_time': (77.18194508552551,\n",
       "  69.25884127616882,\n",
       "  80.86783480644226,\n",
       "  76.93908715248108,\n",
       "  83.4263117313385),\n",
       " 'test_time': (47.901293992996216,\n",
       "  34.64883995056152,\n",
       "  34.744434118270874,\n",
       "  34.70640993118286,\n",
       "  34.97965598106384)}"
      ]
     },
     "execution_count": 21,
     "metadata": {},
     "output_type": "execute_result"
    }
   ],
   "source": [
    "from surprise import SVD\n",
    "svd = SVD(n_factors=25)\n",
    "cross_validate(svd, df_surprise,measures=['RMSE', 'MAE'], cv=5, verbose=True )"
   ]
  },
  {
   "cell_type": "code",
   "execution_count": 22,
   "id": "5b2eb3a3-3b75-4069-878f-6abce9c90918",
   "metadata": {},
   "outputs": [
    {
     "data": {
      "text/html": [
       "<div>\n",
       "<style scoped>\n",
       "    .dataframe tbody tr th:only-of-type {\n",
       "        vertical-align: middle;\n",
       "    }\n",
       "\n",
       "    .dataframe tbody tr th {\n",
       "        vertical-align: top;\n",
       "    }\n",
       "\n",
       "    .dataframe thead th {\n",
       "        text-align: right;\n",
       "    }\n",
       "</style>\n",
       "<table border=\"1\" class=\"dataframe\">\n",
       "  <thead>\n",
       "    <tr style=\"text-align: right;\">\n",
       "      <th></th>\n",
       "      <th>userId</th>\n",
       "      <th>title</th>\n",
       "      <th>note</th>\n",
       "    </tr>\n",
       "  </thead>\n",
       "  <tbody>\n",
       "    <tr>\n",
       "      <th>1317</th>\n",
       "      <td>1000</td>\n",
       "      <td>Good Will Hunting (1997)</td>\n",
       "      <td>4.884728</td>\n",
       "    </tr>\n",
       "    <tr>\n",
       "      <th>12</th>\n",
       "      <td>1000</td>\n",
       "      <td>Shawshank Redemption, The (1994)</td>\n",
       "      <td>4.872083</td>\n",
       "    </tr>\n",
       "    <tr>\n",
       "      <th>562</th>\n",
       "      <td>1000</td>\n",
       "      <td>Gladiator (2000)</td>\n",
       "      <td>4.850420</td>\n",
       "    </tr>\n",
       "    <tr>\n",
       "      <th>1066</th>\n",
       "      <td>1000</td>\n",
       "      <td>Life Is Beautiful (La Vita Ã¨ bella) (1997)</td>\n",
       "      <td>4.789677</td>\n",
       "    </tr>\n",
       "    <tr>\n",
       "      <th>1809</th>\n",
       "      <td>1000</td>\n",
       "      <td>Dark Knight Rises, The (2012)</td>\n",
       "      <td>4.767926</td>\n",
       "    </tr>\n",
       "    <tr>\n",
       "      <th>2599</th>\n",
       "      <td>1000</td>\n",
       "      <td>Intouchables (2011)</td>\n",
       "      <td>4.758670</td>\n",
       "    </tr>\n",
       "    <tr>\n",
       "      <th>359</th>\n",
       "      <td>1000</td>\n",
       "      <td>Forrest Gump (1994)</td>\n",
       "      <td>4.757844</td>\n",
       "    </tr>\n",
       "    <tr>\n",
       "      <th>172</th>\n",
       "      <td>1000</td>\n",
       "      <td>Braveheart (1995)</td>\n",
       "      <td>4.753261</td>\n",
       "    </tr>\n",
       "    <tr>\n",
       "      <th>1600</th>\n",
       "      <td>1000</td>\n",
       "      <td>Bourne Identity, The (2002)</td>\n",
       "      <td>4.745722</td>\n",
       "    </tr>\n",
       "    <tr>\n",
       "      <th>2905</th>\n",
       "      <td>1000</td>\n",
       "      <td>Man on Fire (2004)</td>\n",
       "      <td>4.741475</td>\n",
       "    </tr>\n",
       "  </tbody>\n",
       "</table>\n",
       "</div>"
      ],
      "text/plain": [
       "      userId                                        title      note\n",
       "1317    1000                     Good Will Hunting (1997)  4.884728\n",
       "12      1000             Shawshank Redemption, The (1994)  4.872083\n",
       "562     1000                             Gladiator (2000)  4.850420\n",
       "1066    1000  Life Is Beautiful (La Vita Ã¨ bella) (1997)  4.789677\n",
       "1809    1000                Dark Knight Rises, The (2012)  4.767926\n",
       "2599    1000                          Intouchables (2011)  4.758670\n",
       "359     1000                          Forrest Gump (1994)  4.757844\n",
       "172     1000                            Braveheart (1995)  4.753261\n",
       "1600    1000                  Bourne Identity, The (2002)  4.745722\n",
       "2905    1000                           Man on Fire (2004)  4.741475"
      ]
     },
     "execution_count": 22,
     "metadata": {},
     "output_type": "execute_result"
    }
   ],
   "source": [
    "predictionsSVD = svd.test(anti_testset)\n",
    "\n",
    "predictionsSVD = pd.DataFrame(predictionsSVD)\n",
    "\n",
    "predictionsSVD['title'] = predictionsSVD['iid'].map(movieId_title_map)\n",
    "predictionsSVD = predictionsSVD.rename(columns={'uid': 'userId', 'est': 'note'})\n",
    "\n",
    "predictionsSVD = predictionsSVD[['userId', 'title', 'note']]\n",
    "predictionsSVD.sort_values('note', ascending=False, inplace=True)\n",
    "predictionsSVD.head(10)"
   ]
  },
  {
   "cell_type": "code",
   "execution_count": null,
   "id": "ed9cabb5-e8a3-434e-981c-bac87f15c747",
   "metadata": {},
   "outputs": [],
   "source": []
  }
 ],
 "metadata": {
  "kernelspec": {
   "display_name": "movie_kernel",
   "language": "python",
   "name": "movie_kernel"
  },
  "language_info": {
   "codemirror_mode": {
    "name": "ipython",
    "version": 3
   },
   "file_extension": ".py",
   "mimetype": "text/x-python",
   "name": "python",
   "nbconvert_exporter": "python",
   "pygments_lexer": "ipython3",
   "version": "3.12.2"
  }
 },
 "nbformat": 4,
 "nbformat_minor": 5
}
