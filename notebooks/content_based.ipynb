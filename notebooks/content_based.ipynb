{
 "cells": [
  {
   "cell_type": "markdown",
   "id": "d2414905-0a32-4744-b44f-275315ba521a",
   "metadata": {},
   "source": [
    "# ML Model\n",
    "## Content-Based"
   ]
  },
  {
   "cell_type": "code",
   "execution_count": 1,
   "id": "94ad9430-2ebf-4d61-af5c-b1e75aea8d24",
   "metadata": {},
   "outputs": [],
   "source": [
    "import pandas as pd"
   ]
  },
  {
   "cell_type": "code",
   "execution_count": 44,
   "id": "87ba7f9f-14ad-4b7d-9e92-9bf9c38758e5",
   "metadata": {},
   "outputs": [],
   "source": [
    "df_content_tags = pd.read_csv(\"../data/interim/movies_tags.csv\")"
   ]
  },
  {
   "cell_type": "code",
   "execution_count": 45,
   "id": "bf10bcd0-0212-49ef-b9db-72d0e92ae126",
   "metadata": {},
   "outputs": [
    {
     "name": "stdout",
     "output_type": "stream",
     "text": [
      "(27278, 23964)\n"
     ]
    }
   ],
   "source": [
    "from sklearn.feature_extraction.text import TfidfVectorizer\n",
    "\n",
    "tfidf = TfidfVectorizer()\n",
    "\n",
    "matrice_tfidf = tfidf.fit_transform(df_content_tags['tags'])\n",
    "\n",
    "print(matrice_tfidf.shape)"
   ]
  },
  {
   "cell_type": "code",
   "execution_count": 46,
   "id": "aa46beb3-82eb-4b03-8de3-910a8b2ef370",
   "metadata": {},
   "outputs": [],
   "source": [
    "from sklearn.metrics.pairwise import cosine_similarity\n",
    "\n",
    "sim_cosinus = cosine_similarity(matrice_tfidf, matrice_tfidf)"
   ]
  },
  {
   "cell_type": "code",
   "execution_count": 47,
   "id": "60190458-613b-45d9-bfad-e58560ce5414",
   "metadata": {},
   "outputs": [],
   "source": [
    "from sklearn.metrics.pairwise import cosine_similarity, euclidean_distances\n",
    "\n",
    "sim_euclidienne = 1 / (1 + euclidean_distances(matrice_tfidf))"
   ]
  },
  {
   "cell_type": "code",
   "execution_count": 48,
   "id": "9ad71368-7d7a-4cb0-bdbf-0962707acf5d",
   "metadata": {},
   "outputs": [],
   "source": [
    "indices = pd.Series(range(0,len(df_content_tags)), index=df_content_tags.title)"
   ]
  },
  {
   "cell_type": "code",
   "execution_count": 49,
   "id": "cde2a43d-b0c8-4e49-90f6-88ffbefb20fa",
   "metadata": {},
   "outputs": [],
   "source": [
    "from tabulate import tabulate\n",
    "def recommandations(titre, cos_sim, num_recommendations = 3):\n",
    "    idx = indices[titre]\n",
    "\n",
    "    scores_similarite = list(enumerate(cos_sim[idx]))\n",
    "\n",
    "    scores_similarite = sorted(scores_similarite, key=lambda x: x[1], reverse=True)\n",
    "\n",
    "    top_similair = scores_similarite[1:num_recommendations+1]\n",
    "\n",
    "    res = [(indices.index[idx], score) for idx, score in top_similair]\n",
    "\n",
    "    return tabulate(res, headers=[\"Titre\", \"Score de similarité\"], tablefmt=\"pretty\")\n",
    "   "
   ]
  },
  {
   "cell_type": "code",
   "execution_count": 50,
   "id": "690b018a-ac42-4dd6-8283-caaae9f4f8d7",
   "metadata": {},
   "outputs": [
    {
     "name": "stdout",
     "output_type": "stream",
     "text": [
      "Recommandations pour 'Toy Story (1995)' similarité euclidienne: \n",
      " +---------------------+---------------------+\n",
      "|        Titre        | Score de similarité |\n",
      "+---------------------+---------------------+\n",
      "| Toy Story 2 (1999)  | 0.5790800094732459  |\n",
      "| Finding Nemo (2003) | 0.35054166960781863 |\n",
      "|  Pinocchio (1940)   | 0.32423634761281256 |\n",
      "+---------------------+---------------------+\n"
     ]
    }
   ],
   "source": [
    "print(\"Recommandations pour 'Toy Story (1995)' similarité euclidienne: \\n\",recommandations('Toy Story (1995)', sim_cosinus))"
   ]
  },
  {
   "cell_type": "code",
   "execution_count": 51,
   "id": "b3e2179a-806b-4aad-b611-1d457f51b882",
   "metadata": {},
   "outputs": [
    {
     "name": "stdout",
     "output_type": "stream",
     "text": [
      "Recommandations pour 'Toy Story (1995)' similarité euclidienne: \n",
      " +---------------------+---------------------+\n",
      "|        Titre        | Score de similarité |\n",
      "+---------------------+---------------------+\n",
      "| Toy Story 2 (1999)  | 0.5215073865572446  |\n",
      "| Finding Nemo (2003) | 0.4673551820206762  |\n",
      "|  Pinocchio (1940)   | 0.46241661229706815 |\n",
      "+---------------------+---------------------+\n"
     ]
    }
   ],
   "source": [
    "print(\"Recommandations pour 'Toy Story (1995)' similarité euclidienne: \\n\",recommandations('Toy Story (1995)', sim_euclidienne))"
   ]
  },
  {
   "cell_type": "code",
   "execution_count": null,
   "id": "06460f31-b20c-4b7f-9442-ffaa00765e8b",
   "metadata": {},
   "outputs": [],
   "source": []
  }
 ],
 "metadata": {
  "kernelspec": {
   "display_name": "movie_kernel",
   "language": "python",
   "name": "movie_kernel"
  },
  "language_info": {
   "codemirror_mode": {
    "name": "ipython",
    "version": 3
   },
   "file_extension": ".py",
   "mimetype": "text/x-python",
   "name": "python",
   "nbconvert_exporter": "python",
   "pygments_lexer": "ipython3",
   "version": "3.12.2"
  }
 },
 "nbformat": 4,
 "nbformat_minor": 5
}
